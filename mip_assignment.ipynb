{
 "cells": [
  {
   "cell_type": "code",
   "execution_count": null,
   "metadata": {},
   "outputs": [
    {
     "ename": "",
     "evalue": "",
     "output_type": "error",
     "traceback": [
      "\u001b[1;31mRunning cells with 'Python 3.13.0' requires the ipykernel package.\n",
      "\u001b[1;31mRun the following command to install 'ipykernel' into the Python environment. \n",
      "\u001b[1;31mCommand: '/usr/local/bin/python3 -m pip install ipykernel -U --user --force-reinstall'"
     ]
    }
   ],
   "source": [
    "from BRScraper import nba\n",
    "import pandas as pd\n",
    "import os\n",
    "from sklearn.model_selection import train_test_split\n",
    "from sklearn.ensemble import RandomForestClassifier\n",
    "from sklearn.metrics import classification_report\n",
    "\n",
    "# Function to preprocess a single season for MIP prediction\n",
    "def preprocess_mip_data(current_season_file, previous_season_file, mip_votings):\n",
    "    # Read data for the current and previous seasons\n",
    "    df_curr = pd.read_csv(current_season_file)\n",
    "    df_prev = pd.read_csv(previous_season_file)\n",
    "    \n",
    "    # Select relevant columns\n",
    "    columns = ['Player', 'PTS', 'MP', 'FG%', '3P%', 'AST', 'TRB', 'Team']\n",
    "    df_curr = df_curr[columns]\n",
    "    df_prev = df_prev[columns]\n",
    "\n",
    "    # Merge data for current and previous seasons on Player\n",
    "    df_combined = pd.merge(df_curr, df_prev, on='Player', suffixes=('_curr', '_prev'))\n",
    "    \n",
    "    # Compute year-over-year improvements\n",
    "    for metric in ['PTS', 'MP', 'FG%', '3P%', 'AST', 'TRB']:\n",
    "        df_combined[f'{metric}_improvement'] = df_combined[f'{metric}_curr'] - df_combined[f'{metric}_prev']\n",
    "    \n",
    "    # Add MIP target variable\n",
    "    df_combined['MIP_Nominated'] = df_combined['Player'].apply(lambda player: 1 if player in mip_votings else 0)\n",
    "\n",
    "    return df_combined\n"
   ]
  },
  {
   "cell_type": "code",
   "execution_count": null,
   "metadata": {},
   "outputs": [],
   "source": [
    "# Define input folder paths\n",
    "input_folder = \"processed_data\"\n",
    "output_file = \"mip_combined_data.csv\"\n",
    "\n",
    "# List to hold all season data\n",
    "dataframes = []\n",
    "\n",
    "# Loop through seasons\n",
    "for year in range(2010, 2024):\n",
    "    curr_season = f\"{year}-{str(year+1)[-2:]}\"\n",
    "    prev_season = f\"{year-1}-{str(year)[-2:]}\"\n",
    "    \n",
    "    current_season_file = f\"{input_folder}/nba_player_stats_{curr_season}_processed.csv\"\n",
    "    previous_season_file = f\"{input_folder}/nba_player_stats_{prev_season}_processed.csv\"\n",
    "    \n",
    "    if os.path.exists(current_season_file) and os.path.exists(previous_season_file):\n",
    "        try:\n",
    "            # Fetch MIP voting data\n",
    "            mip_data = nba.get_award_votings('mip', year)\n",
    "            mip_votings = set(mip_data['Player'])  # Extract players nominated for MIP\n",
    "            \n",
    "            # Preprocess season data\n",
    "            df_season = preprocess_mip_data(current_season_file, previous_season_file, mip_votings)\n",
    "            dataframes.append(df_season)\n",
    "            \n",
    "            print(f\"Processed data for {curr_season}\")\n",
    "        except Exception as e:\n",
    "            print(f\"Error processing {curr_season}: {e}\")\n",
    "\n",
    "# Combine all seasons into a single dataframe\n",
    "mip_combined_data = pd.concat(dataframes, ignore_index=True)\n",
    "mip_combined_data.to_csv(output_file, index=False)\n",
    "\n",
    "print(f\"Combined data saved to {output_file}\")\n"
   ]
  },
  {
   "cell_type": "code",
   "execution_count": null,
   "metadata": {},
   "outputs": [],
   "source": [
    "\n",
    "\n",
    "# Load combined data\n",
    "data = pd.read_csv(\"mip_combined_data.csv\")\n",
    "\n",
    "# Features and target\n",
    "feature_columns = [col for col in data.columns if 'improvement' in col]\n",
    "X = data[feature_columns]\n",
    "y = data['MIP_Nominated']\n",
    "\n",
    "# Train-test split\n",
    "X_train, X_test, y_train, y_test = train_test_split(X, y, test_size=0.2, random_state=42)\n",
    "\n",
    "# Train a Random Forest Classifier\n",
    "model = RandomForestClassifier(random_state=42, n_estimators=100)\n",
    "model.fit(X_train, y_train)\n",
    "\n",
    "# Evaluate the model\n",
    "y_pred = model.predict(X_test)\n",
    "print(classification_report(y_test, y_pred))\n"
   ]
  }
 ],
 "metadata": {
  "kernelspec": {
   "display_name": "Python 3",
   "language": "python",
   "name": "python3"
  },
  "language_info": {
   "name": "python",
   "version": "3.13.0"
  }
 },
 "nbformat": 4,
 "nbformat_minor": 2
}
